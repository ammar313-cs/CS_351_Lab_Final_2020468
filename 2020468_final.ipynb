{
 "cells": [
  {
   "cell_type": "code",
   "execution_count": 2,
   "id": "8e7c56e3",
   "metadata": {},
   "outputs": [],
   "source": [
    "import pandas as pd\n",
    "\n",
    "df = pd.read_excel(io=\"data.xlsx\", sheet_name=\"in\")"
   ]
  },
  {
   "cell_type": "code",
   "execution_count": 7,
   "id": "0b84f9d7",
   "metadata": {},
   "outputs": [
    {
     "name": "stdout",
     "output_type": "stream",
     "text": [
      "                                                Text Language\n",
      "0  chatgptãéšããåãœããÿï¼ï¼\\næéžä½œãã³ãƒ¼ãƒæããããããã...       ja\n",
      "1  alexandrovnaing prohibition of chatgpt has bee...       en\n",
      "2  schaut euch an was fobizz dianaknodel alles âï...       de\n",
      "3          bow down to chatgpt ðÿ httpstcoentszi2aq9       en\n",
      "4  profilinde vatan tã¼rkiye falan yazan bireyler...       tr\n"
     ]
    },
    {
     "name": "stderr",
     "output_type": "stream",
     "text": [
      "/var/folders/ph/d5rkl1m93176xgtl24l7gfqr0000gn/T/ipykernel_1331/2691779444.py:5: FutureWarning: The default value of regex will change from True to False in a future version.\n",
      "  df['Text'] = df['Text'].str.replace('[^\\w\\s]', '')\n"
     ]
    }
   ],
   "source": [
    "df = pd.DataFrame(df, columns=['Text', 'Language'])\n",
    "\n",
    "df.dropna()\n",
    "df['Text'] = df['Text'].str.lower()\n",
    "df['Text'] = df['Text'].str.replace('[^\\w\\s]', '')\n",
    "\n",
    "print(df.head(5))  # print first 5 rows of the dataframe"
   ]
  },
  {
   "cell_type": "code",
   "execution_count": 8,
   "id": "abd09e9d",
   "metadata": {},
   "outputs": [],
   "source": [
    "from sklearn.model_selection import train_test_split\n",
    "\n",
    "#split the data into train and test set\n",
    "train,test = train_test_split(df, test_size=0.30, random_state=0)\n",
    "\n",
    "#save the data\n",
    "train.to_csv('train.csv',index=False)\n",
    "\n",
    "test.to_csv('test.csv',index=False)"
   ]
  },
  {
   "cell_type": "code",
   "execution_count": 12,
   "id": "53f160bf",
   "metadata": {},
   "outputs": [
    {
     "name": "stdout",
     "output_type": "stream",
     "text": [
      "                                                    Text Language\n",
      "45401  àààà¹àà¹àà¹ààµàààˆàšàà¹àà google à¹ààà²à¹ààµàà...       th\n",
      "44171  5 times chatgpt steered me wrong in local seo ...       en\n",
      "9341   yg belum tau chatgpt itu apa chatgpt itu sebua...       in\n",
      "7929   isnt it cheaper to create your own chatgpt int...       en\n",
      "46545                      realmeetkevin chatgpt is cool       en\n",
      "                                                    Text Language\n",
      "39178  seems like a boss move for an educator fearing...       en\n",
      "14283  how many of you have still not tried chatgpt y...       en\n",
      "9945   curious  do you think the integration of chatg...       en\n",
      "5554     melhor invenãão da atualidade se chama chat gpt       pt\n",
      "7552                  pabloscare demande ã  chatgpt mdrr       fr\n"
     ]
    }
   ],
   "source": [
    "xtrain = pd.read_csv('train.csv')\n",
    "\n",
    "print(train.head(5))  # print first 5 rows of the dataframe\n",
    "\n",
    "xtest = pd.read_csv('test.csv')\n",
    "\n",
    "print(test.head(5))  # print first 5 rows of the dataframe"
   ]
  },
  {
   "cell_type": "code",
   "execution_count": 15,
   "id": "ea5e77ae",
   "metadata": {},
   "outputs": [],
   "source": [
    "x_train = train['Text']\n",
    "y_train = train['Text']"
   ]
  },
  {
   "cell_type": "code",
   "execution_count": null,
   "id": "5aa6085b",
   "metadata": {},
   "outputs": [],
   "source": []
  },
  {
   "cell_type": "code",
   "execution_count": null,
   "id": "6bcee90a",
   "metadata": {},
   "outputs": [],
   "source": []
  },
  {
   "cell_type": "code",
   "execution_count": null,
   "id": "85239cd2",
   "metadata": {},
   "outputs": [],
   "source": []
  },
  {
   "cell_type": "code",
   "execution_count": null,
   "id": "f56b760a",
   "metadata": {},
   "outputs": [],
   "source": []
  },
  {
   "cell_type": "code",
   "execution_count": null,
   "id": "65754a05",
   "metadata": {},
   "outputs": [],
   "source": []
  },
  {
   "cell_type": "code",
   "execution_count": null,
   "id": "8fc05253",
   "metadata": {},
   "outputs": [],
   "source": []
  },
  {
   "cell_type": "code",
   "execution_count": null,
   "id": "920bb227",
   "metadata": {},
   "outputs": [],
   "source": []
  },
  {
   "cell_type": "code",
   "execution_count": null,
   "id": "04dc128c",
   "metadata": {},
   "outputs": [],
   "source": []
  },
  {
   "cell_type": "code",
   "execution_count": null,
   "id": "ee3a15e8",
   "metadata": {},
   "outputs": [],
   "source": []
  },
  {
   "cell_type": "code",
   "execution_count": null,
   "id": "1b60fb99",
   "metadata": {},
   "outputs": [],
   "source": []
  },
  {
   "cell_type": "code",
   "execution_count": null,
   "id": "96f91db1",
   "metadata": {},
   "outputs": [],
   "source": []
  },
  {
   "cell_type": "code",
   "execution_count": null,
   "id": "4c47bec8",
   "metadata": {},
   "outputs": [],
   "source": []
  },
  {
   "cell_type": "code",
   "execution_count": null,
   "id": "2ae55a9b",
   "metadata": {},
   "outputs": [],
   "source": []
  }
 ],
 "metadata": {
  "kernelspec": {
   "display_name": "Python 3 (ipykernel)",
   "language": "python",
   "name": "python3"
  },
  "language_info": {
   "codemirror_mode": {
    "name": "ipython",
    "version": 3
   },
   "file_extension": ".py",
   "mimetype": "text/x-python",
   "name": "python",
   "nbconvert_exporter": "python",
   "pygments_lexer": "ipython3",
   "version": "3.9.13"
  }
 },
 "nbformat": 4,
 "nbformat_minor": 5
}
